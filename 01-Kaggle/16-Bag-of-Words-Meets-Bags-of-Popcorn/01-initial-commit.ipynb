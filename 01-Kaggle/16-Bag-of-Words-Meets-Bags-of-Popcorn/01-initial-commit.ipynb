{
 "cells": [
  {
   "cell_type": "code",
   "execution_count": 1,
   "metadata": {},
   "outputs": [
    {
     "name": "stdout",
     "output_type": "stream",
     "text": [
      "Downloading word2vec-nlp-tutorial.zip to /home/ubuntu/data/06_github/machine-learning/01-Kaggle/16-Bag-of-Words-Meets-Bags-of-Popcorn\n",
      " 95%|████████████████████████████████████  | 49.0M/51.7M [00:03<00:00, 13.8MB/s]\n",
      "100%|██████████████████████████████████████| 51.7M/51.7M [00:03<00:00, 14.4MB/s]\n"
     ]
    }
   ],
   "source": [
    "!kaggle competitions download -c word2vec-nlp-tutorial"
   ]
  },
  {
   "cell_type": "code",
   "execution_count": 3,
   "metadata": {},
   "outputs": [
    {
     "name": "stdout",
     "output_type": "stream",
     "text": [
      "Archive:  word2vec-nlp-tutorial.zip\n",
      "  inflating: ./data/labeledTrainData.tsv.zip  \n",
      "  inflating: ./data/sampleSubmission.csv  \n",
      "  inflating: ./data/testData.tsv.zip  \n",
      "  inflating: ./data/unlabeledTrainData.tsv.zip  \n"
     ]
    }
   ],
   "source": [
    "!mkdir data\n",
    "!unzip word2vec-nlp-tutorial.zip  -d ./data"
   ]
  },
  {
   "cell_type": "code",
   "execution_count": 6,
   "metadata": {},
   "outputs": [
    {
     "name": "stdout",
     "output_type": "stream",
     "text": [
      "Archive:  ./data/testData.tsv.zip\n",
      "  inflating: ./data/testData.tsv     \n"
     ]
    }
   ],
   "source": [
    "!unzip ./data/testData.tsv.zip -d ./data"
   ]
  },
  {
   "cell_type": "code",
   "execution_count": null,
   "metadata": {},
   "outputs": [],
   "source": []
  }
 ],
 "metadata": {
  "kernelspec": {
   "display_name": "Environment (conda_tensorflow2_p36)",
   "language": "python",
   "name": "conda_tensorflow2_p36"
  },
  "language_info": {
   "codemirror_mode": {
    "name": "ipython",
    "version": 3
   },
   "file_extension": ".py",
   "mimetype": "text/x-python",
   "name": "python",
   "nbconvert_exporter": "python",
   "pygments_lexer": "ipython3",
   "version": "3.6.10"
  }
 },
 "nbformat": 4,
 "nbformat_minor": 2
}
